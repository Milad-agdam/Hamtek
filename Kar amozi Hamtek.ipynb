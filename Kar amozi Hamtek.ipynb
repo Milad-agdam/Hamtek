{
 "cells": [
  {
   "cell_type": "code",
   "execution_count": 26,
   "id": "b988a08e-c2cc-4e3e-98d9-9bbf2e05fa80",
   "metadata": {},
   "outputs": [],
   "source": [
    "import requests\n",
    "from bs4 import BeautifulSoup\n",
    "import pandas as pd\n",
    "import numpy as np"
   ]
  },
  {
   "cell_type": "code",
   "execution_count": 27,
   "id": "cf0316df-1ddc-45a1-85e1-e0e24144817f",
   "metadata": {},
   "outputs": [],
   "source": [
    "site = requests.get('https://www.bestrandoms.com/random-address-in-ir?quantity=30')\n"
   ]
  },
  {
   "cell_type": "code",
   "execution_count": 28,
   "id": "c655d25a-83fa-4d3a-a1a4-3b5f5f69c7bf",
   "metadata": {},
   "outputs": [],
   "source": [
    "soup = BeautifulSoup(site.text, 'html.parser')"
   ]
  },
  {
   "cell_type": "code",
   "execution_count": 29,
   "id": "8bc66fd5-2d35-4b48-ba08-386c8893287e",
   "metadata": {},
   "outputs": [
    {
     "name": "stdout",
     "output_type": "stream",
     "text": [
      "Street:  4tH Fl., No.91, Sanaee St.\n",
      "Street:  No.29, Mobser Passage, Nazemol-Ateba Alley, Ekbatan St.\n",
      "Street:  Unit 2, 2nd Fl., Bldg.No.183, Fatemi St., 1414657682\n",
      "Street:  No 36. Corner of 11th St., Bokharest St., Argentin Sq., 15137\n",
      "Street:  3rd Fl., No. 23, Lotfi St., 7th Tir Sq., 1589865714, P.O. Box: 15745-146\n",
      "Street:  Unit 7, No.6, 5th Alley, Sar Afraz St., Beheshti St., 158760 .\n",
      "Street:  Behind Sasan Beverage Co., Fath St., South Mehr Abad., Sar Asiab., Karaj Ex-Rd., 13864\n",
      "Street:  No.20, Baqzereshk Alley, Up Chaharbaq St., 81736-76681, Isfahan\n",
      "Street:  No.11, East Sarv Blvd., Saadat Abaad, Kaj Sq., 1998653731\n",
      "Street:  No.22, Shahrivar Alley, West Shadab St., Sepahbod Qarani St., 19697\n",
      "Street:  Unit 2, No.42, Yousefi St., Beheshti St.\n",
      "Street:  No.10, Tabesh Langroudi St., Behind Saderat Bank, Tehran Pars 2nd Sq., 1655915773\n",
      "Street:  No. 40, Sahafzadeh Alley, Ali Akbari St., Motahari St., 157644411\n",
      "Street:  No.8, West 4th St., Ettehad St., Aab Ali Rd.\n",
      "Street:  Opposite the Customs, Rah Ahan Sq., 5178833133, Azarbaijan\n",
      "Street:  2nd Fl., No. 22, 17th Behzad Shafaq St., Bokharest St., 151380\n",
      "Street:  No. 25, Sattari St., Africa Exp. Way, 1968855411\n",
      "Street:  No.14, Khazayee St., Golshahr Town, Bootan T-Junction., Saeedi Exp.Way, Chahar Dangeh\n",
      "Street:  Unit 33, 6th Fl., Ferdos Complex, Vali-e-Asr St., After Zafaranie T-Junction.\n",
      "Street:  Unit 4, 3rd Fl., Bldg.No.180, Corner of Chaman Alley, After Saee Park, Vali-e-Asr St.\n"
     ]
    }
   ],
   "source": [
    "x =soup.html.body.find('div',attrs={'class':'content'}).ul.find_all('li')\n",
    "for i in x: \n",
    "    print(i.p.text)\n",
    "    \n",
    "    \n",
    "    "
   ]
  },
  {
   "cell_type": "code",
   "execution_count": 30,
   "id": "c528b8eb-740c-497f-975d-cae1e82029ec",
   "metadata": {},
   "outputs": [
    {
     "name": "stdout",
     "output_type": "stream",
     "text": [
      "20\n",
      "1\n",
      "Street:  4tH Fl., No.91, Sanaee St.\n",
      "2\n",
      "Street:  No.29, Mobser Passage, Nazemol-Ateba Alley, Ekbatan St.\n",
      "3\n",
      "Street:  Unit 2, 2nd Fl., Bldg.No.183, Fatemi St., 1414657682\n",
      "4\n",
      "Street:  No 36. Corner of 11th St., Bokharest St., Argentin Sq., 15137\n",
      "5\n",
      "Street:  3rd Fl., No. 23, Lotfi St., 7th Tir Sq., 1589865714, P.O. Box: 15745-146\n",
      "6\n",
      "Street:  Unit 7, No.6, 5th Alley, Sar Afraz St., Beheshti St., 158760 .\n",
      "7\n",
      "Street:  Behind Sasan Beverage Co., Fath St., South Mehr Abad., Sar Asiab., Karaj Ex-Rd., 13864\n",
      "8\n",
      "Street:  No.20, Baqzereshk Alley, Up Chaharbaq St., 81736-76681, Isfahan\n",
      "9\n",
      "Street:  No.11, East Sarv Blvd., Saadat Abaad, Kaj Sq., 1998653731\n",
      "10\n",
      "Street:  No.22, Shahrivar Alley, West Shadab St., Sepahbod Qarani St., 19697\n",
      "11\n",
      "Street:  Unit 2, No.42, Yousefi St., Beheshti St.\n",
      "12\n",
      "Street:  No.10, Tabesh Langroudi St., Behind Saderat Bank, Tehran Pars 2nd Sq., 1655915773\n",
      "13\n",
      "Street:  No. 40, Sahafzadeh Alley, Ali Akbari St., Motahari St., 157644411\n",
      "14\n",
      "Street:  No.8, West 4th St., Ettehad St., Aab Ali Rd.\n",
      "15\n",
      "Street:  Opposite the Customs, Rah Ahan Sq., 5178833133, Azarbaijan\n",
      "16\n",
      "Street:  2nd Fl., No. 22, 17th Behzad Shafaq St., Bokharest St., 151380\n",
      "17\n",
      "Street:  No. 25, Sattari St., Africa Exp. Way, 1968855411\n",
      "18\n",
      "Street:  No.14, Khazayee St., Golshahr Town, Bootan T-Junction., Saeedi Exp.Way, Chahar Dangeh\n",
      "19\n",
      "Street:  Unit 33, 6th Fl., Ferdos Complex, Vali-e-Asr St., After Zafaranie T-Junction.\n",
      "20\n",
      "Street:  Unit 4, 3rd Fl., Bldg.No.180, Corner of Chaman Alley, After Saee Park, Vali-e-Asr St.\n"
     ]
    }
   ],
   "source": [
    "x = soup.html.body.find('div',attrs={'class':'content'}).ul.find_all('li')\n",
    "\n",
    "xx =1 \n",
    "print(len(x))\n",
    "for i in x:\n",
    "    print(xx)\n",
    "    xx +=1\n",
    "    print(i.p.text)"
   ]
  },
  {
   "cell_type": "code",
   "execution_count": 31,
   "id": "82d8ca02-5bad-4ecc-aba3-88aded4485ca",
   "metadata": {},
   "outputs": [],
   "source": [
    "finallist = []\n",
    "for i in range(1,140):\n",
    "    site = requests.get('https://www.bestrandoms.com/random-address-in-ir?quantity=30'+str(i)+'=&quantity=100')\n",
    "    soup = BeautifulSoup(site.text, 'html.parser')\n",
    "    for tag in soup.html.body.find('div',attrs={'class':'content'}).ul.find_all('li'):\n",
    "            if tag.name != None:\n",
    "                Street = tag.p.text\n",
    "                finallist.append([Street])\n",
    "                \n",
    "            \n",
    " \n"
   ]
  },
  {
   "cell_type": "code",
   "execution_count": 47,
   "id": "03d3baeb-1735-4ad1-b3e5-e09229057aa4",
   "metadata": {},
   "outputs": [],
   "source": [
    "from pandas import DataFrame\n",
    "df= DataFrame(finallist)\n",
    "df=df.rename({0:'street'},axis=1)"
   ]
  },
  {
   "cell_type": "code",
   "execution_count": 66,
   "id": "69baef32-cec7-43ad-ab75-268ec80b3e1d",
   "metadata": {},
   "outputs": [],
   "source": [
    "df1=df.copy()"
   ]
  },
  {
   "cell_type": "code",
   "execution_count": 71,
   "id": "ec50dff5-b65e-48f4-920f-2f0e62a9d454",
   "metadata": {},
   "outputs": [
    {
     "data": {
      "text/html": [
       "<div>\n",
       "<style scoped>\n",
       "    .dataframe tbody tr th:only-of-type {\n",
       "        vertical-align: middle;\n",
       "    }\n",
       "\n",
       "    .dataframe tbody tr th {\n",
       "        vertical-align: top;\n",
       "    }\n",
       "\n",
       "    .dataframe thead th {\n",
       "        text-align: right;\n",
       "    }\n",
       "</style>\n",
       "<table border=\"1\" class=\"dataframe\">\n",
       "  <thead>\n",
       "    <tr style=\"text-align: right;\">\n",
       "      <th></th>\n",
       "      <th>street</th>\n",
       "    </tr>\n",
       "  </thead>\n",
       "  <tbody>\n",
       "    <tr>\n",
       "      <th>0</th>\n",
       "      <td>Units 6 &amp; 9 &amp; 10, Block 2, Bldg.No.1000, Co...</td>\n",
       "    </tr>\n",
       "    <tr>\n",
       "      <th>1</th>\n",
       "      <td>15th Hekmat St., Alborz Industrial Town, P....</td>\n",
       "    </tr>\n",
       "    <tr>\n",
       "      <th>2</th>\n",
       "      <td>2nd Fl., No.37, Mousavi Alley, North Palest...</td>\n",
       "    </tr>\n",
       "    <tr>\n",
       "      <th>3</th>\n",
       "      <td>No.60/16, Shiraz Vanak Complex, West Garmsa...</td>\n",
       "    </tr>\n",
       "    <tr>\n",
       "      <th>4</th>\n",
       "      <td>East1st Fl., No. 125, Mirdamad Blvd., 19116...</td>\n",
       "    </tr>\n",
       "    <tr>\n",
       "      <th>...</th>\n",
       "      <td>...</td>\n",
       "    </tr>\n",
       "    <tr>\n",
       "      <th>2775</th>\n",
       "      <td>5th Fl., Bldg.No.165, Bet. Yousefi Cross Rd...</td>\n",
       "    </tr>\n",
       "    <tr>\n",
       "      <th>2776</th>\n",
       "      <td>No.18, 17th St., Bokharest St., Argentin Sq...</td>\n",
       "    </tr>\n",
       "    <tr>\n",
       "      <th>2777</th>\n",
       "      <td>No.46, Ladan Alley, Mohtasham Kashani St., ...</td>\n",
       "    </tr>\n",
       "    <tr>\n",
       "      <th>2778</th>\n",
       "      <td>POBox 13145-1438 Bldg. No.20, Unit 10, Mesb...</td>\n",
       "    </tr>\n",
       "    <tr>\n",
       "      <th>2779</th>\n",
       "      <td>Unit 1, No.64, Javad kargar St., North Baha...</td>\n",
       "    </tr>\n",
       "  </tbody>\n",
       "</table>\n",
       "<p>2780 rows × 1 columns</p>\n",
       "</div>"
      ],
      "text/plain": [
       "                                                 street\n",
       "0        Units 6 & 9 & 10, Block 2, Bldg.No.1000, Co...\n",
       "1        15th Hekmat St., Alborz Industrial Town, P....\n",
       "2        2nd Fl., No.37, Mousavi Alley, North Palest...\n",
       "3        No.60/16, Shiraz Vanak Complex, West Garmsa...\n",
       "4        East1st Fl., No. 125, Mirdamad Blvd., 19116...\n",
       "...                                                 ...\n",
       "2775     5th Fl., Bldg.No.165, Bet. Yousefi Cross Rd...\n",
       "2776     No.18, 17th St., Bokharest St., Argentin Sq...\n",
       "2777     No.46, Ladan Alley, Mohtasham Kashani St., ...\n",
       "2778     POBox 13145-1438 Bldg. No.20, Unit 10, Mesb...\n",
       "2779     Unit 1, No.64, Javad kargar St., North Baha...\n",
       "\n",
       "[2780 rows x 1 columns]"
      ]
     },
     "execution_count": 71,
     "metadata": {},
     "output_type": "execute_result"
    }
   ],
   "source": [
    "df1['street'] = df1['street'].str.replace('Street:',' ')\n",
    "df1"
   ]
  },
  {
   "cell_type": "code",
   "execution_count": 74,
   "id": "69624736-02be-47a5-ae3f-5ebf887ead23",
   "metadata": {},
   "outputs": [
    {
     "data": {
      "text/html": [
       "<div>\n",
       "<style scoped>\n",
       "    .dataframe tbody tr th:only-of-type {\n",
       "        vertical-align: middle;\n",
       "    }\n",
       "\n",
       "    .dataframe tbody tr th {\n",
       "        vertical-align: top;\n",
       "    }\n",
       "\n",
       "    .dataframe thead th {\n",
       "        text-align: right;\n",
       "    }\n",
       "</style>\n",
       "<table border=\"1\" class=\"dataframe\">\n",
       "  <thead>\n",
       "    <tr style=\"text-align: right;\">\n",
       "      <th></th>\n",
       "      <th>street</th>\n",
       "    </tr>\n",
       "  </thead>\n",
       "  <tbody>\n",
       "    <tr>\n",
       "      <th>0</th>\n",
       "      <td>[   Units 6 &amp; 9 &amp; 10,  Block 2,  Bldg.No.1000,...</td>\n",
       "    </tr>\n",
       "    <tr>\n",
       "      <th>1</th>\n",
       "      <td>[   15th Hekmat St.,  Alborz Industrial Town, ...</td>\n",
       "    </tr>\n",
       "    <tr>\n",
       "      <th>2</th>\n",
       "      <td>[   2nd Fl.,  No.37,  Mousavi Alley,  North Pa...</td>\n",
       "    </tr>\n",
       "    <tr>\n",
       "      <th>3</th>\n",
       "      <td>[   No.60/16,  Shiraz Vanak Complex,  West Gar...</td>\n",
       "    </tr>\n",
       "    <tr>\n",
       "      <th>4</th>\n",
       "      <td>[   East1st Fl.,  No. 125,  Mirdamad Blvd.,  1...</td>\n",
       "    </tr>\n",
       "    <tr>\n",
       "      <th>...</th>\n",
       "      <td>...</td>\n",
       "    </tr>\n",
       "    <tr>\n",
       "      <th>2775</th>\n",
       "      <td>[   5th Fl.,  Bldg.No.165,  Bet. Yousefi Cross...</td>\n",
       "    </tr>\n",
       "    <tr>\n",
       "      <th>2776</th>\n",
       "      <td>[   No.18,  17th St.,  Bokharest St.,  Argenti...</td>\n",
       "    </tr>\n",
       "    <tr>\n",
       "      <th>2777</th>\n",
       "      <td>[   No.46,  Ladan Alley,  Mohtasham Kashani St...</td>\n",
       "    </tr>\n",
       "    <tr>\n",
       "      <th>2778</th>\n",
       "      <td>[   POBox 13145-1438 Bldg. No.20,  Unit 10,  M...</td>\n",
       "    </tr>\n",
       "    <tr>\n",
       "      <th>2779</th>\n",
       "      <td>[   Unit 1,  No.64,  Javad kargar St.,  North ...</td>\n",
       "    </tr>\n",
       "  </tbody>\n",
       "</table>\n",
       "<p>2780 rows × 1 columns</p>\n",
       "</div>"
      ],
      "text/plain": [
       "                                                 street\n",
       "0     [   Units 6 & 9 & 10,  Block 2,  Bldg.No.1000,...\n",
       "1     [   15th Hekmat St.,  Alborz Industrial Town, ...\n",
       "2     [   2nd Fl.,  No.37,  Mousavi Alley,  North Pa...\n",
       "3     [   No.60/16,  Shiraz Vanak Complex,  West Gar...\n",
       "4     [   East1st Fl.,  No. 125,  Mirdamad Blvd.,  1...\n",
       "...                                                 ...\n",
       "2775  [   5th Fl.,  Bldg.No.165,  Bet. Yousefi Cross...\n",
       "2776  [   No.18,  17th St.,  Bokharest St.,  Argenti...\n",
       "2777  [   No.46,  Ladan Alley,  Mohtasham Kashani St...\n",
       "2778  [   POBox 13145-1438 Bldg. No.20,  Unit 10,  M...\n",
       "2779  [   Unit 1,  No.64,  Javad kargar St.,  North ...\n",
       "\n",
       "[2780 rows x 1 columns]"
      ]
     },
     "execution_count": 74,
     "metadata": {},
     "output_type": "execute_result"
    }
   ],
   "source": [
    "df1['street'] = df1['street'].str.split(',')\n",
    "df1"
   ]
  },
  {
   "cell_type": "code",
   "execution_count": null,
   "id": "21f098b7-0f7e-45b4-ab1c-c592558aebc2",
   "metadata": {},
   "outputs": [],
   "source": []
  },
  {
   "cell_type": "code",
   "execution_count": null,
   "id": "d7beec3d-8d6f-436c-af8e-dc9895247e3b",
   "metadata": {},
   "outputs": [],
   "source": []
  },
  {
   "cell_type": "code",
   "execution_count": null,
   "id": "d5f87f57-388e-4853-aadb-66174747ca83",
   "metadata": {},
   "outputs": [],
   "source": []
  }
 ],
 "metadata": {
  "kernelspec": {
   "display_name": "Python 3 (ipykernel)",
   "language": "python",
   "name": "python3"
  },
  "language_info": {
   "codemirror_mode": {
    "name": "ipython",
    "version": 3
   },
   "file_extension": ".py",
   "mimetype": "text/x-python",
   "name": "python",
   "nbconvert_exporter": "python",
   "pygments_lexer": "ipython3",
   "version": "3.8.11"
  }
 },
 "nbformat": 4,
 "nbformat_minor": 5
}
